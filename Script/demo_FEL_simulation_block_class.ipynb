{
 "cells": [
  {
   "cell_type": "code",
   "execution_count": 1,
   "metadata": {
    "collapsed": false
   },
   "outputs": [
    {
     "name": "stdout",
     "output_type": "stream",
     "text": [
      "initializing ocelot...\n"
     ]
    }
   ],
   "source": [
    "import ocelot"
   ]
  },
  {
   "cell_type": "markdown",
   "metadata": {},
   "source": [
    "## FEL simulation block\n",
    "\n",
    "### Import the Class"
   ]
  },
  {
   "cell_type": "code",
   "execution_count": 2,
   "metadata": {
    "collapsed": false
   },
   "outputs": [],
   "source": [
    "from ocelot.S2E_STFC import FEL_simulation_block"
   ]
  },
  {
   "cell_type": "markdown",
   "metadata": {},
   "source": [
    "### Setting up the data dictionary"
   ]
  },
  {
   "cell_type": "code",
   "execution_count": 3,
   "metadata": {
    "collapsed": true
   },
   "outputs": [],
   "source": [
    "data = {'gen_file':'/home/qfi29231/SHORT_NOM_TD_FAST.in',\n",
    "       'file_pout':'/scratch2b/qfi29231/test_fast_ASTRA_mat_aft/',\n",
    "       'stat_run':1,\n",
    "       'gen_launch':'genesis2.0',\n",
    "       'i_edist':0,\n",
    "       'i_beam':0,\n",
    "       'i_rad':0,\n",
    "       'i_dpa':0,\n",
    "       'i_dfl':0,\n",
    "       'i_astra':1,\n",
    "       'astra_file':'/home/qfi29231/ASTRA_files/CLARA/clara_V10.astra',\n",
    "       'i_match':1,\n",
    "        'tw_match':{'alpha_x':-0.1895,\n",
    "        'alpha_y' : 0,\n",
    "        'beta_x':3.7666,\n",
    "        'beta_y':1.4489},\n",
    "       'idump':1,\n",
    "       'i_rewrite':0,\n",
    "        'par_rew':{'ntail':0,\n",
    "                  'nslice':300},\n",
    "       'i_scan':0,\n",
    "       'parameter':'quadf',\n",
    "       'init':12,\n",
    "       'end':25,\n",
    "       'n_scan':7}"
   ]
  },
  {
   "cell_type": "markdown",
   "metadata": {},
   "source": [
    "### Making an instance of the FEL_simulation_block class"
   ]
  },
  {
   "cell_type": "code",
   "execution_count": 4,
   "metadata": {
    "collapsed": false
   },
   "outputs": [],
   "source": [
    "f=FEL_simulation_block.FEL_simulation_block(data)"
   ]
  },
  {
   "cell_type": "markdown",
   "metadata": {},
   "source": [
    "### Read GENESIS input file (calling the method read_GEN_input_file within the class)"
   ]
  },
  {
   "cell_type": "code",
   "execution_count": 5,
   "metadata": {
    "collapsed": false
   },
   "outputs": [],
   "source": [
    "A_inp=f.read_GEN_input_file()"
   ]
  },
  {
   "cell_type": "markdown",
   "metadata": {},
   "source": [
    "### Calling the method to run the simulation and making the postprocessing (GEN_simul_preproc). Input: the Input object which is the outcome of the read_GEN_input_file"
   ]
  },
  {
   "cell_type": "code",
   "execution_count": null,
   "metadata": {
    "collapsed": false,
    "scrolled": true
   },
   "outputs": [
    {
     "name": "stdout",
     "output_type": "stream",
     "text": [
      "++++ Output Path /scratch2b/qfi29231/test_fast_ASTRA_mat_aft/ ++++++\n",
      "++++++++ No scan ++++++++++\n",
      "++++ Undulator Parameters +++\n",
      "Undulator parameters:\n",
      "('L=', 0.675)\n",
      "('gamma(electron)=', 469.65999999999997)\n",
      "('K=', 1.2256988945087615)\n",
      "('B[T]=', 0.52507687093410305)\n",
      "('test', 12.493825067999214)\n",
      "Radiation parameters:\n",
      "('w1(first harmonic, zero angle)=', 18981462555686900.0, 'Hz/2pi', 12.493825067999216, '[eV]', 9.9236376637610884e-08, 'm')\n",
      "('Total energy loss [Gev]', 6.781815165002314e-09)\n",
      "********    FEL Parameters    ********\n",
      "('ex=', 5e-07)\n",
      "('ey=', 5e-07)\n",
      "('rxbeam=', 6.3324479999999999e-05, ' [m]')\n",
      "('rybeam=', 3.9259859999999997e-05, ' [m]')\n",
      "('rel energy spread deta=', 0.00010220159264148533, ' [m]')\n",
      "('xlamd=', 0.025)\n",
      "('aw0=', 0.86670000000000003)\n",
      "('gamma0=', 469.66)\n",
      "('Ip=', 800.0, ' beam peak current [A]')\n",
      "('lambda0=', 9.923637663761087e-08)\n",
      "('Pb=', 191996604843.85602, ' beam power [W]')\n",
      "('N=', 551326.80100533483)\n",
      "('rho=', 0.00463865006946789)\n",
      "('power=', 4.2858275594692232, ' equivalent shot noise power [W]')\n",
      "('coupling parameter fc=', 0.88191021393782643)\n",
      "('gain length estimate lg=', 0.24761554509625378)\n",
      "('Rayleigh length estimate zr=', 0.33315099239162599)\n",
      "\n",
      "Ming Xie gain reduction estimates:\n",
      "('diffraction parameter etad=', 0.74325321176043957)\n",
      "('energy spread parameter etad=', 0.012720536393024093)\n",
      "('gain length degradation lscale=', 0.38046521588656812)\n",
      "**************************************\n",
      "5\n",
      "9.92363766376e-08\n",
      "++++ No edist or beam or dpa or rad file available ++++++\n",
      "+++++ Starting simulation of noise realisation 0\n",
      "    removing old files\n",
      "generating lattice file...\n",
      "    writing particle distribution file\n",
      "      done in 0.14 sec\n",
      "launching mpi job\n",
      "mkdir -p /scratch2b/qfi29231/test_fast_ASTRA_mat_aft/scan_0/ip_seed_-1/; cd /scratch2b/qfi29231/test_fast_ASTRA_mat_aft/scan_0/ip_seed_-1/; mpiexec -np 25 genesis2.0 < tmp.cmd | tee log\n"
     ]
    }
   ],
   "source": [
    "A_inp_aft=f.GEN_simul_preproc(A_inp)"
   ]
  },
  {
   "cell_type": "code",
   "execution_count": null,
   "metadata": {
    "collapsed": true
   },
   "outputs": [],
   "source": []
  }
 ],
 "metadata": {
  "anaconda-cloud": {},
  "kernelspec": {
   "display_name": "Python [Root]",
   "language": "python",
   "name": "Python [Root]"
  },
  "language_info": {
   "codemirror_mode": {
    "name": "ipython",
    "version": 2
   },
   "file_extension": ".py",
   "mimetype": "text/x-python",
   "name": "python",
   "nbconvert_exporter": "python",
   "pygments_lexer": "ipython2",
   "version": "2.7.12"
  }
 },
 "nbformat": 4,
 "nbformat_minor": 0
}
