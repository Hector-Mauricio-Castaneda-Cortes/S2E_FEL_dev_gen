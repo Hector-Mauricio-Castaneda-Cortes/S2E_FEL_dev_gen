{
 "cells": [
  {
   "cell_type": "markdown",
   "metadata": {},
   "source": [
    "# DEMO OF FEL SIMULATION BLOCK AND FEL CALCULATIONS\n",
    "\n",
    "#### Hector Mauricio Castaneda Cortes\n",
    "#### 17/05/2022\n",
    "\n",
    "\n",
    "\n",
    "## Table of contents\n",
    "1. [Setting up packages and installation](#introduction)\n",
    "2. [Import the FEL simulation block class](#FEL_simulation_block)\n",
    "    1. [Setting up the data dictionary](#data_dict)\n",
    "    2. [Make an instance of the FEL simulation block](#instance)\n",
    "    3. [Read Genesis input file](#read_genesis_file)\n",
    "    4. [Run simulation](#run_simulation)\n",
    "    5. [Run several simulations changing parameters - TD](#loop_over_parameter)\n",
    "    \n",
    "3. [Reading output file](#reading_output_file)\n",
    "4. [Brightness and BW calculation across the undulator](#brightness_bw)\n",
    "5. [Calculation of the coherence length](#coherence_length)"
   ]
  },
  {
   "cell_type": "markdown",
   "metadata": {},
   "source": [
    "## Setting up the packages that are required for the FEL simulation block (Lynx)\n",
    " <a name=\"introduction\"></a>\n",
    "#### Clone the repository from [Lynx repository](https://github.com/Hector-Mauricio-Castaneda-Cortes/S2E_FEL_dev_gen)\n",
    "\n",
    "\n",
    "Firstly, the path where OCELOT is installed needs to be appended. That is why os and sys are imported. If you are running on apsv2 or apclara1, you can also export the PATH (EXPORT PATH=$PATH:path_ocelot). In addition, we are importing numpy, matplotlib for plotting purposes and deepcopy from copy"
   ]
  },
  {
   "cell_type": "code",
   "execution_count": 8,
   "metadata": {},
   "outputs": [],
   "source": [
    "import os\n",
    "import sys\n",
    "sys.path.append(\"C:////Users/qfi29231/Documents/S2E_FEL_dev_gen/ocelot/\")\n",
    "import numpy as np\n",
    "import matplotlib.pyplot as plt\n",
    "from copy import copy, deepcopy"
   ]
  },
  {
   "cell_type": "markdown",
   "metadata": {},
   "source": [
    "In addition, we are going to import the methods within the ocelot.adaptor.genesis (including the input, output, edist, dpa, dfl classes and methods to read the output files, dpa, dfl files, convert edist to beam or ASTRA to edist files)\n",
    "\n"
   ]
  },
  {
   "cell_type": "code",
   "execution_count": 9,
   "metadata": {},
   "outputs": [],
   "source": [
    "from ocelot.adaptors.genesis import * ##Not very pythonic, but it will import all the methods and classes within the ocelot.adaptors.genesis package"
   ]
  },
  {
   "cell_type": "markdown",
   "metadata": {},
   "source": [
    "## FEL simulation block <a name=\"FEL_simulation_block\"></a>\n",
    "\n",
    "### Import the Class\n",
    "\n",
    "To import the FEL simulation block class (and run the simulations), it is necessary to import the class from the ocelot.S2E_STFC package. THe implementation goes as follows:"
   ]
  },
  {
   "cell_type": "code",
   "execution_count": 4,
   "metadata": {},
   "outputs": [],
   "source": [
    "from ocelot.S2E_STFC.FEL_simulation_block import FEL_simulation_block"
   ]
  },
  {
   "cell_type": "markdown",
   "metadata": {},
   "source": [
    "### Setting up the data dictionary <a name=\"data_dict\"></a>\n",
    "\n",
    "The data dictionary is the input that the initialise the instance of the FEL simulation block object(let's call it Genesis simulation object). It will initialise some of the attributes that the instance will have once called.\n",
    "\n",
    "- gen_file: Path of the Genesis input file (v2 or v3)\n",
    "- file_pout: Path where the input files and output files are generated. If there is only one statistical run, the tree directory will be file_pout/scan_0/ip_seed_-1/  (by default, the ipseed parameter for one noise realisation is -1).\n",
    "- stat_run: Number of statistical runs.\n",
    "- gen_launch: Genesis executable. It could be genesis2.0 (in apsv2) or genesis_mpi (in apclara1). I copied the genesis_mpi executable to my home directory in apclara1, and modified the code such that when the simulation launches, the executable in my home directory can be called (if you need to modify the number of processes or t he executable, you need to look for the method get_genesis_launcher in ocelot/adaptors/genesis.py).\n",
    "- i_edist, 'file_edist': Flag and path where an external edist is located. It uses the function read_edist from ocelot/adaptors/genesis.py If the flag is 0 (default), it does not look for an edist file.\n",
    "- i_beam, 'file_file_beam': Flag and path where an external beam is located. It uses the function read_beam from ocelot/adaptors/genesis.py (the size of the bin is 100 wavelengths by default. You can modify it in the script ocelot/S2E_STFC/FEL_simulation_block.py, GEN_read_beam() method).  If the flag is 0 (default), it does not look for a beam file.\n",
    "- i_rad, 'file_rad': Flag and path where an external rad is located.   If the flag is 0 (default), it does not look for an rad file.\n",
    "- i_dpa, 'file_dpa': Flag and path where an external dpa file is located. It uses the function read_dpa from ocelot/adaptors/genesis.py (you can set the number of particles in the dpa file). You can modify it in the script ocelot/S2E_STFC/FEL_simulation_block.py).  If the flag is 0 (default), it does not look for a dpa file.\n",
    "- i_dfl, 'file_dfl': Flag and path where an external dfl file is located. It uses the function read_dfl from ocelot/adaptors/genesis.py.  If the flag is 0 (default), it does not look for a dfl file.\n",
    "- i_astra, 'astra_file': Flag and  path where an external ASTRA file is located. It converts the ASTRA file into an edist object. If the flag is 0 (default), it does not look for an ASTRA file.\n",
    "- i_match, tw_match dictionary: If the flag is set to 1, it will match the external distribution to the twiss parameters which are defined within the tw_match dictionary (keys: alpha_x,alpha_y,beta_x,beta_y)\n",
    "- i_rewrite, par_rew: If the flat is set to 1, it will rewrite any parameter of the original input file, replacing it by a new value defined within the dictionary par_rew.\n",
    "- i_scan: Flag to perform a scan over a parameter in the input file (if it is set to one):\n",
    "    * Parameter: Parameter of the input file to be scanned (if you do a scan, the tree directory will look like file_pout/scan_value-parameter/ip_seed_-1/). The scan is done in steady state by definition. <ins>If you want to do a time dependent scan over a variable, just call the simulation within a loop and replace the parameter in the input object.</ins>\n",
    "    * Init: starting value of the parameter\n",
    "    * End: Ending value of the parameter for the scan\n",
    "    * n_scan: Number of scanned values\n",
    "\n"
   ]
  },
  {
   "cell_type": "code",
   "execution_count": 10,
   "metadata": {},
   "outputs": [],
   "source": [
    "data = {'gen_file':'/scratch2b/qfi29231/original_DAVE_file/TOM/NEW_LONG_NOM_TD.in',\n",
    "       'file_pout':'/scratch2b/qfi29231/original_DAVE_file/TOM/test_edist/with_latt_no_beam/',\n",
    "       'stat_run':1,\n",
    "       'gen_launch':'genesis2.0',\n",
    "       'i_edist':0,\n",
    "        'file_edist':'/home/qfi29231/e_dist_L-FEL_old.dist',\n",
    "       'i_beam':0,\n",
    "        'file_beam':'/scratch2b/qfi29231/original_DAVE_file/TOM/beamfile2.beam',\n",
    "        'i_dpa':0,\n",
    "        'file_dpa':'file',\n",
    "        'i_rad':0,\n",
    "        'file_rad':'file',\n",
    "        'i_dfl':0,\n",
    "        'file_dfl':'dfl',\n",
    "       'i_astra':0,\n",
    "       'astra_file':'/home/qfi29231/ASTRA_files/CLARA/clara_V10.astra',\n",
    "       'i_match':0,\n",
    "        'tw_match':{'alpha_x':-0.1895,\n",
    "        'alpha_y' : 0,\n",
    "        'beta_x':3.7666,\n",
    "        'beta_y':1.4489},\n",
    "       'i_rewrite':0,\n",
    "        'par_rew':{'aw0':0,\n",
    "                   'awd':1200},\n",
    "        'idump':0,\n",
    "       'i_scan':0,\n",
    "       'parameter':'aw0',\n",
    "       'init':0.907,\n",
    "       'end':0.911,\n",
    "       'n_scan':20}"
   ]
  },
  {
   "cell_type": "markdown",
   "metadata": {},
   "source": [
    "### Making an instance of the FEL_simulation_block class <a name=\"instance\"></a>\n",
    "\n",
    "Once you have defined the data dictionary, you can make the instance of the FEL simulation block (simulation run object) with the attributes as defined within the input data dictionary"
   ]
  },
  {
   "cell_type": "code",
   "execution_count": 7,
   "metadata": {},
   "outputs": [],
   "source": [
    "f=FEL_simulation_block(data)"
   ]
  },
  {
   "cell_type": "markdown",
   "metadata": {},
   "source": [
    "### Read GENESIS input file (calling the method read_GEN_input_file within the class) <a name=\"read_genesis_file\"></a>\n",
    "\n",
    "The method read_GEN_input_file() is used to read the input file and generate the input object. THe attributes of this object can be overwritten (if you need to change a parameter of the simulation in the input file, just type A_inp.aw0=0.1, and it will change the aw0 to 0.1 in the input object). Just in case, to avoid errors, once you have created the instance of the input object, change fbess0, trama, to zero. Also, the input object has as attributes dpa, dfl, beam and edist objects. The idea is that you can use the methods in the adaptors/genesis.py package to read external dpa, dfl, beam and edist files. And these objects will become dpa, dfl,beam,edist files generated before the simulation starts."
   ]
  },
  {
   "cell_type": "code",
   "execution_count": 17,
   "metadata": {},
   "outputs": [
    {
     "ename": "FileNotFoundError",
     "evalue": "[Errno 2] No such file or directory: '/scratch2b/qfi29231/original_DAVE_file/TOM/NEW_LONG_NOM_TD.in'",
     "output_type": "error",
     "traceback": [
      "\u001b[1;31m---------------------------------------------------------------------------\u001b[0m",
      "\u001b[1;31mFileNotFoundError\u001b[0m                         Traceback (most recent call last)",
      "\u001b[1;32m<ipython-input-17-3e224d0292e9>\u001b[0m in \u001b[0;36m<module>\u001b[1;34m\u001b[0m\n\u001b[1;32m----> 1\u001b[1;33m \u001b[0mA_inp\u001b[0m\u001b[1;33m=\u001b[0m\u001b[0mf\u001b[0m\u001b[1;33m.\u001b[0m\u001b[0mread_GEN_input_file\u001b[0m\u001b[1;33m(\u001b[0m\u001b[1;33m)\u001b[0m\u001b[1;33m\u001b[0m\u001b[1;33m\u001b[0m\u001b[0m\n\u001b[0m\u001b[0;32m      2\u001b[0m \u001b[0mA_inp\u001b[0m\u001b[1;33m.\u001b[0m\u001b[0mfbess0\u001b[0m\u001b[1;33m=\u001b[0m\u001b[0mint\u001b[0m\u001b[1;33m(\u001b[0m\u001b[1;36m0\u001b[0m\u001b[1;33m)\u001b[0m \u001b[1;31m# Change the parameter fbess0 of the input object\u001b[0m\u001b[1;33m\u001b[0m\u001b[1;33m\u001b[0m\u001b[0m\n\u001b[0;32m      3\u001b[0m \u001b[0mA_inp\u001b[0m\u001b[1;33m.\u001b[0m\u001b[0mtrama\u001b[0m\u001b[1;33m=\u001b[0m\u001b[0mint\u001b[0m\u001b[1;33m(\u001b[0m\u001b[1;36m0\u001b[0m\u001b[1;33m)\u001b[0m\u001b[1;33m\u001b[0m\u001b[1;33m\u001b[0m\u001b[0m\n\u001b[0;32m      4\u001b[0m \u001b[1;31m## A_inp.edist= read_edist_file(path_to_edist_file)  If you want to read an external edist file (you need to set A_input.distfile=None)\u001b[0m\u001b[1;33m\u001b[0m\u001b[1;33m\u001b[0m\u001b[1;33m\u001b[0m\u001b[0m\n\u001b[0;32m      5\u001b[0m \u001b[1;31m## A_inp.beam= read_beam_file(path_to_beam_file,step=step in m)  If you want to read an external beam file (you need to set A_input.beamfile=None)\u001b[0m\u001b[1;33m\u001b[0m\u001b[1;33m\u001b[0m\u001b[1;33m\u001b[0m\u001b[0m\n",
      "\u001b[1;32m~\\Documents\\S2E_FEL_dev_gen\\ocelot\\S2E_STFC\\FEL_simulation_block.py\u001b[0m in \u001b[0;36mread_GEN_input_file\u001b[1;34m(self)\u001b[0m\n\u001b[0;32m    110\u001b[0m \u001b[1;33m\u001b[0m\u001b[0m\n\u001b[0;32m    111\u001b[0m         \u001b[0mA_input\u001b[0m \u001b[1;33m=\u001b[0m \u001b[0mGenesisInput\u001b[0m\u001b[1;33m(\u001b[0m\u001b[1;33m)\u001b[0m\u001b[1;33m\u001b[0m\u001b[1;33m\u001b[0m\u001b[0m\n\u001b[1;32m--> 112\u001b[1;33m         \u001b[1;32mwith\u001b[0m \u001b[0mopen\u001b[0m\u001b[1;33m(\u001b[0m\u001b[0mself\u001b[0m\u001b[1;33m.\u001b[0m\u001b[0mgen_file\u001b[0m\u001b[1;33m,\u001b[0m \u001b[1;34m'r'\u001b[0m\u001b[1;33m)\u001b[0m \u001b[1;32mas\u001b[0m \u001b[0mf\u001b[0m\u001b[1;33m:\u001b[0m\u001b[1;33m\u001b[0m\u001b[1;33m\u001b[0m\u001b[0m\n\u001b[0m\u001b[0;32m    113\u001b[0m             \u001b[1;32mfor\u001b[0m \u001b[0mline\u001b[0m \u001b[1;32min\u001b[0m \u001b[0mf\u001b[0m\u001b[1;33m:\u001b[0m\u001b[1;33m\u001b[0m\u001b[1;33m\u001b[0m\u001b[0m\n\u001b[0;32m    114\u001b[0m                 \u001b[1;32mif\u001b[0m \u001b[1;32mnot\u001b[0m \u001b[0mline\u001b[0m\u001b[1;33m.\u001b[0m\u001b[0mstrip\u001b[0m\u001b[1;33m(\u001b[0m\u001b[1;33m)\u001b[0m\u001b[1;33m:\u001b[0m\u001b[1;33m\u001b[0m\u001b[1;33m\u001b[0m\u001b[0m\n",
      "\u001b[1;31mFileNotFoundError\u001b[0m: [Errno 2] No such file or directory: '/scratch2b/qfi29231/original_DAVE_file/TOM/NEW_LONG_NOM_TD.in'"
     ]
    }
   ],
   "source": [
    "A_inp=f.read_GEN_input_file()\n",
    "A_inp.fbess0=int(0) # Change the parameter fbess0 of the input object\n",
    "A_inp.trama=int(0)\n",
    "## A_inp.edist= read_edist_file(path_to_edist_file)  If you want to read an external edist file (you need to set A_input.distfile=None)\n",
    "## A_inp.beam= read_beam_file(path_to_beam_file,step=step in m)  If you want to read an external beam file (you need to set A_input.beamfile=None)\n",
    "## A_inp.dfl= read_dfl_file(path_to_dfl_file)  If you want to read an external dfl file (you need to set A_input.fieldfile=None)\n",
    "## A_inp.dpa = read_dpa_file(path_to_dpa_file)  If you want to read an external beam file (you need to set A_input.partfile=None)\n",
    "\n",
    "# The dfl, dpa, beam, and edist objects have attributes beam.filePath. If you define those attributes and plot the beam or the edist object, you can\n",
    "#select where the results (plots) are to be saved.\n",
    "\n",
    "# It fails because the input file is not in the gen_file path. Change it in the data dictionary\n",
    "# For a steady state simulation\n",
    "#           A_inp.tdp='steady'\n",
    "#           A_inp.shotnoise=0\n",
    "#           A_inp.prad0=1e3\n",
    "#           A_inp.itdp=0\n",
    "\n",
    "# For a TD\n",
    "#           A_inp.tdp='tdp'\n",
    "#           A_inp.shotnoise=1\n",
    "#           A_inp.prad0=1e-12\n",
    "#           A_inp.itdp=1\n"
   ]
  },
  {
   "cell_type": "markdown",
   "metadata": {},
   "source": [
    "### Calling the method to run the simulation and making the postprocessing (GEN_simul_preproc). Input: the Input object which is the outcome of the read_GEN_input_file <a name=\"run_simulation\"></a>\n",
    "\n",
    "Once you have set up everything related to your input object, you can start the simulation, calling the method GEN_simu_preproc from the FEL_simulation_block object. The input of that method is the input object you have defined earlier.\n",
    "\n",
    "The output is an array of output objects (output objects are objects that are generated when you read the output file of Genesis. WHen you run the simulation, it will read the output file at the end. To access the output file, you just need to do g_out[0]. You read it and plot it as you do it in MATLAB, I think"
   ]
  },
  {
   "cell_type": "code",
   "execution_count": 13,
   "metadata": {
    "scrolled": true
   },
   "outputs": [
    {
     "ename": "NameError",
     "evalue": "name 'A_inp' is not defined",
     "output_type": "error",
     "traceback": [
      "\u001b[1;31m---------------------------------------------------------------------------\u001b[0m",
      "\u001b[1;31mNameError\u001b[0m                                 Traceback (most recent call last)",
      "\u001b[1;32m<ipython-input-13-b1ae8f6320af>\u001b[0m in \u001b[0;36m<module>\u001b[1;34m\u001b[0m\n\u001b[1;32m----> 1\u001b[1;33m \u001b[0mg_out\u001b[0m\u001b[1;33m=\u001b[0m\u001b[0mf\u001b[0m\u001b[1;33m.\u001b[0m\u001b[0mGEN_simul_preproc\u001b[0m\u001b[1;33m(\u001b[0m\u001b[0mA_inp\u001b[0m\u001b[1;33m)\u001b[0m\u001b[1;33m\u001b[0m\u001b[1;33m\u001b[0m\u001b[0m\n\u001b[0m\u001b[0;32m      2\u001b[0m \u001b[1;33m\u001b[0m\u001b[0m\n\u001b[0;32m      3\u001b[0m \u001b[1;31m#If you want to have access the genesis output object (at the end of the simulation), and you have only one noise realisation,\u001b[0m\u001b[1;33m\u001b[0m\u001b[1;33m\u001b[0m\u001b[1;33m\u001b[0m\u001b[0m\n\u001b[0;32m      4\u001b[0m \u001b[1;31m# you need just to type g_out= g_out[0]. If you have more than one noise realisation, all the output objects will be appended\u001b[0m\u001b[1;33m\u001b[0m\u001b[1;33m\u001b[0m\u001b[1;33m\u001b[0m\u001b[0m\n\u001b[0;32m      5\u001b[0m \u001b[1;31m# in an array (in this case, the name of the array is g_out). If you want to know to which simulation does a particular output\u001b[0m\u001b[1;33m\u001b[0m\u001b[1;33m\u001b[0m\u001b[1;33m\u001b[0m\u001b[0m\n",
      "\u001b[1;31mNameError\u001b[0m: name 'A_inp' is not defined"
     ]
    }
   ],
   "source": [
    "g_out=f.GEN_simul_preproc(A_inp)\n",
    "\n",
    "#If you want to have access the genesis output object (at the end of the simulation), and you have only one noise realisation,\n",
    "# you need just to type g_out= g_out[0]. If you have more than one noise realisation, all the output objects will be appended\n",
    "# in an array (in this case, the name of the array is g_out). If you want to know to which simulation does a particular output\n",
    "#object belongs, you can ask Python for the filepath of the output object:\n",
    "\n",
    "# gout= g_out[0]\n",
    "# print(gout.filePath)\n",
    "\n",
    "# If you want to get the pulse energy, just type gout.energy (length of this array is the same as gout.z, \n",
    "#position along the undulator)\n",
    "\n",
    "#If you want to get the power, gout.p_int (dimentions of the matrix, number of slices times number of positions along the undulator)\n",
    "\n",
    "# If you want to get the spectrum, gout.spec (it has the dimentions of the length of gout.freq_eV or gout.freq_nm , frequencies\n",
    "# in eV or nm and positions along the undulator, so that you can get the spectra at some particular positions of the undulator) . \n",
    "# Therefore, you can plot the spectra"
   ]
  },
  {
   "cell_type": "markdown",
   "metadata": {},
   "source": [
    "### Loop scan over parameter <a name=\"loop_over_parameter\"></a>\n",
    "\n",
    "If you want to do a loop over a parameter, time dependent, you can do the following (for example scan of aw0 in time dependent)"
   ]
  },
  {
   "cell_type": "code",
   "execution_count": null,
   "metadata": {},
   "outputs": [],
   "source": [
    "start_point=0.\n",
    "end_point=1.e-6\n",
    "num = 10\n",
    "array_input = np.linspace(start_point,end_point,num=num)\n",
    "g_out=[]\n",
    "\n",
    "f=FEL_simulation_block(data)\n",
    "file_old = f.file_pout # directory where to save the results\n",
    "for aw00 in array_input:\n",
    "    f.file_pout = os.path.join(file_old,'aw0_'+str(aw0)) # generates subfolders with the results of each step of the scan\n",
    "    A_inp=f.read_GEN_input_file()\n",
    "    A_inp.fbess0=int(0) # Change the parameter fbess0 of the input object\n",
    "    A_inp.trama=int(0)\n",
    "    A_inp.tdp='tdp'\n",
    "    A_inp.shotnoise=1\n",
    "    A_inp.prad0=1e-12\n",
    "    A_inp.itdp=1\n",
    "    g_out.append(f.GEN_simul_preproc(A_inp)) # it appends an output object at the end of each simulation. \n",
    "    "
   ]
  },
  {
   "cell_type": "markdown",
   "metadata": {
    "collapsed": true
   },
   "source": [
    "## Reading of the output file <a name=\"reading_output_file\"></a>\n",
    "\n",
    "If you have run a simulation and you have a genesisv2 file, you can read it using the method read_file_out from adaptors/genesis.py. The input will be  the path of the output file (change the path of the output file in the next cell to an available output file)."
   ]
  },
  {
   "cell_type": "code",
   "execution_count": 14,
   "metadata": {},
   "outputs": [
    {
     "name": "stdout",
     "output_type": "stream",
     "text": [
      "    reading output file \"/scratch2b/qfi29231/XLS/run.0.gout\"\n",
      "!     waiting for \"/scratch2b/qfi29231/XLS/run.0.gout\" 10s [6]\n"
     ]
    },
    {
     "ename": "KeyboardInterrupt",
     "evalue": "",
     "output_type": "error",
     "traceback": [
      "\u001b[1;31m---------------------------------------------------------------------------\u001b[0m",
      "\u001b[1;31mKeyboardInterrupt\u001b[0m                         Traceback (most recent call last)",
      "\u001b[1;32m<ipython-input-14-32faf8df1f4a>\u001b[0m in \u001b[0;36m<module>\u001b[1;34m\u001b[0m\n\u001b[1;32m----> 1\u001b[1;33m \u001b[0mg_out\u001b[0m \u001b[1;33m=\u001b[0m \u001b[0mread_out_file\u001b[0m\u001b[1;33m(\u001b[0m\u001b[1;34m'/scratch2b/qfi29231/XLS/run.0.gout'\u001b[0m\u001b[1;33m)\u001b[0m\u001b[1;33m\u001b[0m\u001b[1;33m\u001b[0m\u001b[0m\n\u001b[0m",
      "\u001b[1;32m~\\Documents\\S2E_FEL_dev_gen\\ocelot\\adaptors\\genesis.py\u001b[0m in \u001b[0;36mread_out_file\u001b[1;34m(filePath, read_level, precision, debug)\u001b[0m\n\u001b[0;32m   2097\u001b[0m     \u001b[1;32mwhile\u001b[0m \u001b[0mos\u001b[0m\u001b[1;33m.\u001b[0m\u001b[0mpath\u001b[0m\u001b[1;33m.\u001b[0m\u001b[0misfile\u001b[0m\u001b[1;33m(\u001b[0m\u001b[0mout\u001b[0m\u001b[1;33m.\u001b[0m\u001b[0mfilePath\u001b[0m\u001b[1;33m)\u001b[0m \u001b[1;33m!=\u001b[0m \u001b[1;32mTrue\u001b[0m\u001b[1;33m:\u001b[0m\u001b[1;33m\u001b[0m\u001b[1;33m\u001b[0m\u001b[0m\n\u001b[0;32m   2098\u001b[0m         \u001b[0mprint\u001b[0m\u001b[1;33m(\u001b[0m\u001b[1;34m'!     waiting for \"'\u001b[0m \u001b[1;33m+\u001b[0m \u001b[0mout\u001b[0m\u001b[1;33m.\u001b[0m\u001b[0mfileName\u001b[0m\u001b[1;33m(\u001b[0m\u001b[1;33m)\u001b[0m \u001b[1;33m+\u001b[0m \u001b[1;34m'\" '\u001b[0m \u001b[1;33m+\u001b[0m \u001b[0mstr\u001b[0m\u001b[1;33m(\u001b[0m\u001b[0mwait_time\u001b[0m\u001b[1;33m)\u001b[0m \u001b[1;33m+\u001b[0m \u001b[1;34m's ['\u001b[0m \u001b[1;33m+\u001b[0m \u001b[0mstr\u001b[0m\u001b[1;33m(\u001b[0m\u001b[0mwait_attempt\u001b[0m\u001b[1;33m)\u001b[0m \u001b[1;33m+\u001b[0m \u001b[1;34m']'\u001b[0m\u001b[1;33m)\u001b[0m\u001b[1;33m\u001b[0m\u001b[1;33m\u001b[0m\u001b[0m\n\u001b[1;32m-> 2099\u001b[1;33m         \u001b[0mtime\u001b[0m\u001b[1;33m.\u001b[0m\u001b[0msleep\u001b[0m\u001b[1;33m(\u001b[0m\u001b[0mwait_time\u001b[0m\u001b[1;33m)\u001b[0m  \u001b[1;31m# wait for the .out file to be assembled\u001b[0m\u001b[1;33m\u001b[0m\u001b[1;33m\u001b[0m\u001b[0m\n\u001b[0m\u001b[0;32m   2100\u001b[0m         \u001b[0mwait_attempt\u001b[0m \u001b[1;33m-=\u001b[0m \u001b[1;36m1\u001b[0m\u001b[1;33m\u001b[0m\u001b[1;33m\u001b[0m\u001b[0m\n\u001b[0;32m   2101\u001b[0m         \u001b[1;32mif\u001b[0m \u001b[0mwait_attempt\u001b[0m \u001b[1;33m==\u001b[0m \u001b[1;36m0\u001b[0m\u001b[1;33m:\u001b[0m\u001b[1;33m\u001b[0m\u001b[1;33m\u001b[0m\u001b[0m\n",
      "\u001b[1;31mKeyboardInterrupt\u001b[0m: "
     ]
    }
   ],
   "source": [
    "g_out = read_out_file('/scratch2b/qfi29231/XLS/run.0.gout')"
   ]
  },
  {
   "cell_type": "markdown",
   "metadata": {},
   "source": [
    "## Calculation of Brightness, BW <a name=\"brightness_bw\"></a>\n",
    "\n",
    "If you have the output object, you can calculate the brightness across the undulator and the BW. These methods are defined within the FEL_simulation_block object (simulation object). So, you can define a dummy input data dictionary (in case you are not running a previous simulation) and the method will receive an output object as input"
   ]
  },
  {
   "cell_type": "code",
   "execution_count": 16,
   "metadata": {},
   "outputs": [],
   "source": [
    "data_dummy={} ## Dummy data dictionary, g_out output object\n",
    "f_obj_two = FEL_simulation_block(data_dummy)\n",
    "brightness_bw = f_obj_two.brightness_calculation(g_out)"
   ]
  },
  {
   "cell_type": "markdown",
   "metadata": {},
   "source": [
    "The brightness_bw is a dictionary and has the results of the brightness and BW calculation . It has three keys: \n",
    "\n",
    "- 'brightness' :Brightness across the undulator (length the same as g_out.z)\n",
    "- 'bw_std': BW across the undulator (as plotted by xgenesis)\n",
    "- 'z': Position across the undulator\n",
    "\n",
    "if you need to call the brightness, you can access it via brightness_bw['brightness']\n"
   ]
  },
  {
   "cell_type": "markdown",
   "metadata": {},
   "source": [
    "## Calculation of coherence length <a name=\"coherence_length\"></a>\n",
    "\n",
    "Similarly to the case of the Brightness, if you have an output object (after reading an output file), you can create a dummy dictionary to have access to the method to calculate the coherence length of a pulse as outcome of a FEL simulation. The calculation of the coherence length follows a script implemented by Neil in MATLAB, in which you determine from the output the amplitude and phase of the electric field, and use the usual definition of the degree of coherence to integrate the field and its conjugate at different times and transverse positions. "
   ]
  },
  {
   "cell_type": "code",
   "execution_count": null,
   "metadata": {},
   "outputs": [],
   "source": [
    "data_dummy={} ## Dummy data dictionary, g_out output object\n",
    "f_obj_two = FEL_simulation_block(data_dummy)\n",
    "coh_length =f_obj_two.get_lcoh(g_out)"
   ]
  },
  {
   "cell_type": "code",
   "execution_count": null,
   "metadata": {},
   "outputs": [],
   "source": []
  }
 ],
 "metadata": {
  "anaconda-cloud": {},
  "kernelspec": {
   "display_name": "Python 3",
   "language": "python",
   "name": "python3"
  },
  "language_info": {
   "codemirror_mode": {
    "name": "ipython",
    "version": 3
   },
   "file_extension": ".py",
   "mimetype": "text/x-python",
   "name": "python",
   "nbconvert_exporter": "python",
   "pygments_lexer": "ipython3",
   "version": "3.7.4"
  }
 },
 "nbformat": 4,
 "nbformat_minor": 1
}
